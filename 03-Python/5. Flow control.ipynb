{
 "cells": [
  {
   "cell_type": "markdown",
   "metadata": {},
   "source": [
    "# If conditional\n",
    "\n",
    "A classical of every Turing-complete programming language. On Python its defined using the following syntax: "
   ]
  },
  {
   "cell_type": "code",
   "execution_count": 1,
   "metadata": {
    "collapsed": true
   },
   "outputs": [],
   "source": [
    "def lesser_or_greater(x, y):\n",
    "    if x < y:\n",
    "        print(x, \"is lesser than\", y)\n",
    "    elif x > y:\n",
    "        print(x, \"is greater than\", y)\n",
    "    else:\n",
    "        print(x, \"and\", y, \"are equal\")"
   ]
  },
  {
   "cell_type": "markdown",
   "metadata": {},
   "source": [
    "If we invoke this function using different inputs, we can obtain different outputs:"
   ]
  },
  {
   "cell_type": "code",
   "execution_count": 2,
   "metadata": {},
   "outputs": [
    {
     "name": "stdout",
     "output_type": "stream",
     "text": [
      "2 is lesser than 5\n"
     ]
    }
   ],
   "source": [
    "lesser_or_greater(2, 5)"
   ]
  },
  {
   "cell_type": "code",
   "execution_count": 3,
   "metadata": {},
   "outputs": [
    {
     "name": "stdout",
     "output_type": "stream",
     "text": [
      "100 is greater than 10\n"
     ]
    }
   ],
   "source": [
    "lesser_or_greater(100, 10)"
   ]
  },
  {
   "cell_type": "code",
   "execution_count": 4,
   "metadata": {},
   "outputs": [
    {
     "name": "stdout",
     "output_type": "stream",
     "text": [
      "1 and 1 are equal\n"
     ]
    }
   ],
   "source": [
    "lesser_or_greater(1, 1)"
   ]
  },
  {
   "cell_type": "markdown",
   "metadata": {},
   "source": [
    "Some of the important comparison operators are listed on the following table: \n",
    "\n",
    "| Operator | Assertion\n",
    "| -------- | ---------\n",
    "|   ==     | Equality\n",
    "|   !=     | Inequality        \n",
    "|   <      | Lesser than\n",
    "|   >      | Greater than\n",
    "|   <=     | Lesser or equal\n",
    "|   >=     | Greater or equal\n",
    "|   not    | Negate a boolean condition\n",
    "|   in     | Checks if an element is present inside an iterable\n",
    "|   and    | Short-circuit AND between boolean operations\n",
    "|   or     | Short-circuit OR between boolean operations\n",
    "|   is     | Verifies if an object is equal to another (Memory based)\n",
    "\n",
    "All operators are similar to those present on other programming languages, with exception of ``in``, ``is`` and ``not`` operators:"
   ]
  },
  {
   "cell_type": "code",
   "execution_count": 5,
   "metadata": {},
   "outputs": [
    {
     "data": {
      "text/plain": [
       "False"
      ]
     },
     "execution_count": 5,
     "metadata": {},
     "output_type": "execute_result"
    }
   ],
   "source": [
    "3 in [1, 2, 4]"
   ]
  },
  {
   "cell_type": "code",
   "execution_count": 6,
   "metadata": {},
   "outputs": [
    {
     "data": {
      "text/plain": [
       "True"
      ]
     },
     "execution_count": 6,
     "metadata": {},
     "output_type": "execute_result"
    }
   ],
   "source": [
    "3 in [1, 2, 3]"
   ]
  },
  {
   "cell_type": "code",
   "execution_count": 7,
   "metadata": {},
   "outputs": [
    {
     "data": {
      "text/plain": [
       "True"
      ]
     },
     "execution_count": 7,
     "metadata": {},
     "output_type": "execute_result"
    }
   ],
   "source": [
    "'a' in {'a':4, 'b':3}"
   ]
  },
  {
   "cell_type": "code",
   "execution_count": 8,
   "metadata": {},
   "outputs": [
    {
     "data": {
      "text/plain": [
       "False"
      ]
     },
     "execution_count": 8,
     "metadata": {},
     "output_type": "execute_result"
    }
   ],
   "source": [
    "3 in (25, 6)"
   ]
  },
  {
   "cell_type": "code",
   "execution_count": 9,
   "metadata": {},
   "outputs": [
    {
     "data": {
      "text/plain": [
       "True"
      ]
     },
     "execution_count": 9,
     "metadata": {},
     "output_type": "execute_result"
    }
   ],
   "source": [
    "not (2 == 5)"
   ]
  },
  {
   "cell_type": "code",
   "execution_count": 10,
   "metadata": {},
   "outputs": [
    {
     "data": {
      "text/plain": [
       "False"
      ]
     },
     "execution_count": 10,
     "metadata": {},
     "output_type": "execute_result"
    }
   ],
   "source": [
    "3 is None"
   ]
  },
  {
   "cell_type": "code",
   "execution_count": 11,
   "metadata": {},
   "outputs": [
    {
     "data": {
      "text/plain": [
       "True"
      ]
     },
     "execution_count": 11,
     "metadata": {},
     "output_type": "execute_result"
    }
   ],
   "source": [
    "4 is not None"
   ]
  },
  {
   "cell_type": "markdown",
   "metadata": {},
   "source": [
    "A través de estos ejemplos también podemos notar que los valores de verdad en Python se escriben como `True` y `False` para verdadero y falso, respectivamente."
   ]
  },
  {
   "cell_type": "markdown",
   "metadata": {},
   "source": [
    "## Problemas"
   ]
  },
  {
   "cell_type": "markdown",
   "metadata": {},
   "source": [
    "### Problema 1\n",
    "\n",
    "Definir una función `absoluto(x)` que tome un número `x` y retorne su valor absoluto, así:\n",
    "\n",
    "```python\n",
    "absoluto(100.22)\n",
    "100.22\n",
    "```\n",
    "\n",
    "```python\n",
    "absoluto(-18.7)\n",
    "18.7\n",
    "```"
   ]
  },
  {
   "cell_type": "code",
   "execution_count": 14,
   "metadata": {},
   "outputs": [
    {
     "data": {
      "text/plain": [
       "18.7"
      ]
     },
     "execution_count": 14,
     "metadata": {},
     "output_type": "execute_result"
    }
   ],
   "source": [
    "# Escribir la solución aquí\n",
    "def absoluto(x):\n",
    "    return abs(x)\n",
    "absoluto(-18.7)"
   ]
  },
  {
   "cell_type": "markdown",
   "metadata": {},
   "source": [
    "### Problema 2\n",
    "\n",
    "Definir una función `es_divisible_entre_siete(x)` que imprima si un número es o no es divisible entre 7. La función debe *imprimir* resultados como los siguientes:\n",
    "\n",
    "```python\n",
    "es_divisible_entre_siete(12)\n",
    "'12 no es divisible entre 7'\n",
    "```\n",
    "\n",
    "```python\n",
    "es_divisible_entre_siete(14)\n",
    "'14 es divisible entre 7'\n",
    "```\n",
    "\n",
    "```python\n",
    "es_divisible_entre_siete(32)\n",
    "'32 no es divisible entre 7'\n",
    "```\n",
    "\n",
    "```python\n",
    "es_divisible_entre_siete(21)\n",
    "'21 es divisible entre 7'\n",
    "```\n",
    "\n",
    "**Nota**:\n",
    "\n",
    "Utilizar el operador módulo (`%`) para decidir si un número es múltiplo de otro. Este operador retorna el resto de la división entre dos números. Por tanto, si un número divide exactamente a otro, retorna `0`, sino retorna cualquier otro número. Veamos algunos ejemplos:\n",
    "\n",
    "```python\n",
    "12%4\n",
    "0\n",
    "```\n",
    "\n",
    "```python\n",
    "12%6\n",
    "0\n",
    "```\n",
    "\n",
    "```python\n",
    "12%5\n",
    "2\n",
    "```\n",
    "\n",
    "```python\n",
    "25%5\n",
    "0\n",
    "```\n",
    "\n",
    "```python\n",
    "25%6\n",
    "1\n",
    "```"
   ]
  },
  {
   "cell_type": "code",
   "execution_count": 16,
   "metadata": {},
   "outputs": [],
   "source": [
    "# Escribir la solución aquí\n",
    "def es_divisible_entre_siete(x):\n",
    "    if x%7==0:\n",
    "        return str(x)+' es divisible entre 7'\n",
    "    else:\n",
    "        return str(x)+' no es divisible entre 7'\n",
    "es_divisible_entre_siete(32)     \n",
    "\n",
    "def es_divisible_entre_n(x,y):\n",
    "    if x%y==0:\n",
    "        return str(x)+' es divisible entre '+str(y)\n",
    "    else:\n",
    "        return str(x)+' no es divisible entre '+str(y)"
   ]
  },
  {
   "cell_type": "markdown",
   "metadata": {},
   "source": [
    "### Problema 3\n",
    "\n",
    "Generalizar la función anterior como una nueva función llamada `es_divisible_entre_n(x, n)` que tome dos números enteros e imprima si el primero es divisible entre el segundo, así: (Tomado de *Aprenda a pensar como un programador con Python*)\n",
    "\n",
    "```python\n",
    "es_divisible_entre_n(20, 4)\n",
    "'20 es divisible entre 4'\n",
    "```\n",
    "\n",
    "```python\n",
    "es_divisible_entre_n(36, 5)\n",
    "'36 no es divisible entre 5'\n",
    "```"
   ]
  },
  {
   "cell_type": "markdown",
   "metadata": {},
   "source": [
    "### Problema 4\n",
    "\n",
    "Definir una función `agregar_nuevo(li, x)` que reciba una lista y un elemento, y retorne una nueva lista en la que esté añadido el elemento, pero sólo si éste **no** hace parte de la lista original (Tomado de *Introducción a Mathematica* del Prof. Jurgen Tischer).\n",
    "\n",
    "Por ejemplo, algunos resultados de esta función son:\n",
    "\n",
    "```python\n",
    "agregar_nuevo([3,9,6], 11)\n",
    "[3, 9, 6, 11]\n",
    "```\n",
    "\n",
    "```python\n",
    "agregar_nuevo([3,9,6], 9)\n",
    "[3, 9, 6]\n",
    "```"
   ]
  },
  {
   "cell_type": "markdown",
   "metadata": {},
   "source": [
    "# For loop\n",
    "\n",
    "On Python, the ``for .. in `` syntax is used to iterate over elements of an iterable or generator object. Its syntax is more simple than that of C/C++ or Java. Instead of defining and increasing/decreasing an index variable, each iteration it returns the current object of the iterable sequence. \n",
    "\n",
    "**Note:** The sequence is looped in order of appeareance. \n",
    "\n",
    "Lets check some examples:"
   ]
  },
  {
   "cell_type": "code",
   "execution_count": 17,
   "metadata": {},
   "outputs": [
    {
     "name": "stdout",
     "output_type": "stream",
     "text": [
      "3\n",
      "9\n",
      "12\n",
      "4\n"
     ]
    }
   ],
   "source": [
    "for x in [3, 9, 12, 4]:\n",
    "    print(x)"
   ]
  },
  {
   "cell_type": "code",
   "execution_count": 18,
   "metadata": {},
   "outputs": [
    {
     "name": "stdout",
     "output_type": "stream",
     "text": [
      "Jack\n",
      "Kack\n",
      "Lack\n",
      "Mack\n",
      "Nack\n",
      "Oack\n",
      "Pack\n",
      "Qack\n"
     ]
    }
   ],
   "source": [
    "prefix = \"JKLMNOPQ\"\n",
    "suffix = \"ack\"\n",
    "for letter in prefix:\n",
    "    print(letter + suffix)"
   ]
  },
  {
   "cell_type": "code",
   "execution_count": 19,
   "metadata": {},
   "outputs": [
    {
     "name": "stdout",
     "output_type": "stream",
     "text": [
      "0\n",
      "1\n",
      "4\n",
      "9\n",
      "16\n",
      "25\n",
      "36\n",
      "49\n",
      "64\n",
      "81\n"
     ]
    }
   ],
   "source": [
    "for i in range(10):\n",
    "    print(i**2)"
   ]
  },
  {
   "cell_type": "markdown",
   "metadata": {},
   "source": [
    "`range` alows to define an index list, to loop over a sequence by its indices, as was done previously on C/C++. It allows also to define sequences of numbers between two numbers (Non-inclusive) and sequences with skips, similar to the general slicing notation:\n",
    "\n",
    "**Nota**: Similar to ``zip``, ``dict.keys`` and ``dict.values``, ``range`` returns a generator object, which implies that slicing and indexing capabilities are not available"
   ]
  },
  {
   "cell_type": "code",
   "execution_count": 21,
   "metadata": {},
   "outputs": [
    {
     "data": {
      "text/plain": [
       "[0, 1, 2, 3, 4, 5, 6, 7, 8, 9]"
      ]
     },
     "execution_count": 21,
     "metadata": {},
     "output_type": "execute_result"
    }
   ],
   "source": [
    "list(range(10))"
   ]
  },
  {
   "cell_type": "markdown",
   "metadata": {},
   "source": [
    "`range`: List between ``a`` and ``b - 1``:"
   ]
  },
  {
   "cell_type": "code",
   "execution_count": 22,
   "metadata": {},
   "outputs": [
    {
     "data": {
      "text/plain": [
       "[1, 2, 3, 4, 5, 6, 7, 8, 9, 10, 11, 12, 13, 14, 15, 16, 17, 18, 19]"
      ]
     },
     "execution_count": 22,
     "metadata": {},
     "output_type": "execute_result"
    }
   ],
   "source": [
    "list(range(1, 20))"
   ]
  },
  {
   "cell_type": "markdown",
   "metadata": {},
   "source": [
    "With skips of 3:"
   ]
  },
  {
   "cell_type": "code",
   "execution_count": 23,
   "metadata": {},
   "outputs": [
    {
     "data": {
      "text/plain": [
       "[7, 10, 13, 16, 19, 22]"
      ]
     },
     "execution_count": 23,
     "metadata": {},
     "output_type": "execute_result"
    }
   ],
   "source": [
    "list(range(7, 25, 3))"
   ]
  },
  {
   "cell_type": "markdown",
   "metadata": {},
   "source": [
    "Iterable unpacking notation can also be used on a for loop, for example, ``enumerate`` function allows us to retrieve the current iterable object as well as its position:"
   ]
  },
  {
   "cell_type": "code",
   "execution_count": 24,
   "metadata": {},
   "outputs": [
    {
     "name": "stdout",
     "output_type": "stream",
     "text": [
      "0 2\n",
      "1 3\n",
      "2 4\n"
     ]
    }
   ],
   "source": [
    "for i, x in enumerate([2, 3, 4]):\n",
    "    print(i, x)\n"
   ]
  },
  {
   "cell_type": "code",
   "execution_count": 25,
   "metadata": {},
   "outputs": [
    {
     "name": "stdout",
     "output_type": "stream",
     "text": [
      "0 5\n",
      "1 7\n"
     ]
    }
   ],
   "source": [
    "for i, (a, b) in enumerate([(2, 3), (3, 4)]):\n",
    "    print(i, a+b)"
   ]
  },
  {
   "cell_type": "code",
   "execution_count": 26,
   "metadata": {},
   "outputs": [
    {
     "name": "stdout",
     "output_type": "stream",
     "text": [
      "3 4\n",
      "4 5\n"
     ]
    }
   ],
   "source": [
    "for a, b in zip([3, 4], [4, 5]):\n",
    "    print(a, b)"
   ]
  },
  {
   "cell_type": "markdown",
   "metadata": {},
   "source": [
    "## List/Dictionary Comprehensions\n",
    "Sometimes, we just may use a for loop to filter a list content or to create a dictionary based on other list. However, Python brings us an easy way of doing these kind of operations on a single line:"
   ]
  },
  {
   "cell_type": "code",
   "execution_count": 27,
   "metadata": {},
   "outputs": [
    {
     "data": {
      "text/plain": [
       "[0, 2, 4, 6, 8, 10, 12, 14, 16, 18]"
      ]
     },
     "execution_count": 27,
     "metadata": {},
     "output_type": "execute_result"
    }
   ],
   "source": [
    "a = [x for x in range(0, 20) if x % 2 == 0]  # Get all even values between 0 and 19\n",
    "a"
   ]
  },
  {
   "cell_type": "code",
   "execution_count": 28,
   "metadata": {},
   "outputs": [
    {
     "data": {
      "text/plain": [
       "[0, 0, 2, 0, 4, 0, 6, 0, 8, 0, 10, 0, 12, 0, 14, 0, 16, 0, 18, 0]"
      ]
     },
     "execution_count": 28,
     "metadata": {},
     "output_type": "execute_result"
    }
   ],
   "source": [
    "a = [x if x % 2 == 0 else 0 for x in range(0, 20)] # On odd indices put 0\n",
    "a"
   ]
  },
  {
   "cell_type": "markdown",
   "metadata": {},
   "source": [
    "We can also nest this notation:"
   ]
  },
  {
   "cell_type": "code",
   "execution_count": 29,
   "metadata": {},
   "outputs": [
    {
     "data": {
      "text/plain": [
       "[[], [0], [0, 0], [0, 0, 0], [0, 0, 0, 0]]"
      ]
     },
     "execution_count": 29,
     "metadata": {},
     "output_type": "execute_result"
    }
   ],
   "source": [
    "a = [[0 for y in range(0, x)] for x in range(0, 5)]\n",
    "a"
   ]
  },
  {
   "cell_type": "markdown",
   "metadata": {},
   "source": [
    "We can apply a similar notation to create dictionaries:"
   ]
  },
  {
   "cell_type": "code",
   "execution_count": 30,
   "metadata": {},
   "outputs": [
    {
     "data": {
      "text/plain": [
       "{0: 10, 1: 11, 2: 12, 3: 13, 4: 14, 5: 15, 6: 16, 7: 17, 8: 18, 9: 19}"
      ]
     },
     "execution_count": 30,
     "metadata": {},
     "output_type": "execute_result"
    }
   ],
   "source": [
    "d = {i:i+10 for i in range(0, 10)}\n",
    "d"
   ]
  },
  {
   "cell_type": "markdown",
   "metadata": {},
   "source": [
    "## Problemas"
   ]
  },
  {
   "cell_type": "markdown",
   "metadata": {},
   "source": [
    "### Problema 5\n",
    "\n",
    "Construir un ciclo ``for`` que imprima todos los números pares de 1 a 100."
   ]
  },
  {
   "cell_type": "code",
   "execution_count": 31,
   "metadata": {},
   "outputs": [
    {
     "name": "stdout",
     "output_type": "stream",
     "text": [
      "2\n",
      "4\n",
      "6\n",
      "8\n",
      "10\n",
      "12\n",
      "14\n",
      "16\n",
      "18\n",
      "20\n",
      "22\n",
      "24\n",
      "26\n",
      "28\n",
      "30\n",
      "32\n",
      "34\n",
      "36\n",
      "38\n",
      "40\n",
      "42\n",
      "44\n",
      "46\n",
      "48\n",
      "50\n",
      "52\n",
      "54\n",
      "56\n",
      "58\n",
      "60\n",
      "62\n",
      "64\n",
      "66\n",
      "68\n",
      "70\n",
      "72\n",
      "74\n",
      "76\n",
      "78\n",
      "80\n",
      "82\n",
      "84\n",
      "86\n",
      "88\n",
      "90\n",
      "92\n",
      "94\n",
      "96\n",
      "98\n",
      "100\n"
     ]
    }
   ],
   "source": [
    "# Escribir la solución aquí\n",
    "for i in range(1,101):\n",
    "    if i %2 ==0:\n",
    "        print(i)"
   ]
  },
  {
   "cell_type": "markdown",
   "metadata": {},
   "source": [
    "### Problema 6\n",
    "\n",
    "Definir una función `es_primo` que tome un número `x` y verifique si es divisible entre todos los números menores a `x`. Si lo es, entonces debe retornar `False` y si no `True`. Por ejemplo:\n",
    "\n",
    "```python\n",
    "es_primo(10)\n",
    "False\n",
    "```\n",
    "\n",
    "```python\n",
    "es_primo(17)\n",
    "True\n",
    "```\n",
    "\n",
    "```python\n",
    "es_primo(15)\n",
    "False\n",
    "```\n",
    "\n",
    "```python\n",
    "es_primo(23)\n",
    "True\n",
    "```\n",
    "\n",
    "**Nota**:\n",
    "\n",
    "Modificar la función `es_divisible_entre_n` para que en lugar de imprimir oraciones, retorne `True` o `False`, y después utilizarla como parte del enunciado de la función `es_primo`."
   ]
  },
  {
   "cell_type": "code",
   "execution_count": null,
   "metadata": {
    "collapsed": true
   },
   "outputs": [],
   "source": [
    "# Escribir la solución aquí\n"
   ]
  },
  {
   "cell_type": "markdown",
   "metadata": {},
   "source": [
    "### Problema 7\n",
    "\n",
    "Optimizar la función anterior, respondiendo a la siguiente pregunta: ¿Es necesario revisar todos los números menores a `x` para verificar si `x` es divisible entre todos ellos? ¿Hasta qué número es en realidad necesario revisar?\n",
    "\n",
    "Para ello, definir una nueva función `es_primo_veloz` y comparar los tiempos de ejecución entre ella y `es_primo` usando el comando `%timeit`, así:\n",
    "\n",
    "```python\n",
    "%timeit es_primo(600)\n",
    "100000 loops, best of 3: 18.2 us per loop\n",
    "```\n",
    "\n",
    "```ipython\n",
    "%timeit es_primo_veloz(600)\n",
    "100000 loops, best of 3: 7.62 us per loop\n",
    "```\n"
   ]
  },
  {
   "cell_type": "code",
   "execution_count": null,
   "metadata": {
    "collapsed": true
   },
   "outputs": [],
   "source": [
    "# Escribir la solución aquí\n"
   ]
  },
  {
   "cell_type": "markdown",
   "metadata": {},
   "source": [
    "### Problema 8\n",
    "\n",
    "Definir una función `desv_est` que calcule la desviación estándar de una lista, usando la fórmula:\n",
    "\n",
    "$$s=\\sqrt{\\frac{\\sum_{i=1}^{n}\\left(x_{i}-\\bar{x}\\right)^{2}}{n-1}}$$\n",
    "\n",
    "donde $\\bar{x}$ es el promedio y $n$ es el número total de datos.\n",
    "\n",
    "Por ejemplo, la desviación estándar de la siguiente lista:"
   ]
  },
  {
   "cell_type": "code",
   "execution_count": 41,
   "metadata": {},
   "outputs": [
    {
     "data": {
      "text/plain": [
       "10.042037752958006"
      ]
     },
     "execution_count": 41,
     "metadata": {},
     "output_type": "execute_result"
    }
   ],
   "source": [
    "import math\n",
    "li = [48.38,  27.6 ,  32.46,  51.94,  47.43,  48.61,  34.38,  48.98,\\\n",
    "      48.86,  41.45,  56.55,  25.46,  27.03,  36.72,  48.03,  36.86,\\\n",
    "      42.58,  44.44,  56.12,  43.86,  44.42,  42.92,  41.43,  22.81,\\\n",
    "      36.55,  50.89,  29.93,  47.61,  63.91,  53.98,  42.64,  27.18,\\\n",
    "      29.93,  31.51]\n",
    "tam = len(li)\n",
    "promedio = sum(li)/tam\n",
    "\n",
    "summ = [x - promedio for x in li]\n",
    "pooo  = [i **2 for i in summ]\n",
    "\n",
    "math.sqrt((sum(pooo)/tam))"
   ]
  },
  {
   "cell_type": "markdown",
   "metadata": {},
   "source": [
    "debe dar como resultado\n",
    "\n",
    "```python\n",
    "desv_est(li)\n",
    "10.193054313544058\n",
    "```"
   ]
  }
 ],
 "metadata": {
  "kernelspec": {
   "display_name": "Python 3",
   "language": "python",
   "name": "python3"
  },
  "language_info": {
   "codemirror_mode": {
    "name": "ipython",
    "version": 3
   },
   "file_extension": ".py",
   "mimetype": "text/x-python",
   "name": "python",
   "nbconvert_exporter": "python",
   "pygments_lexer": "ipython3",
   "version": "3.6.3"
  }
 },
 "nbformat": 4,
 "nbformat_minor": 1
}
